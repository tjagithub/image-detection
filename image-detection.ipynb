{
 "cells": [
  {
   "cell_type": "code",
   "execution_count": 218,
   "metadata": {},
   "outputs": [
    {
     "name": "stdout",
     "output_type": "stream",
     "text": [
      "\u001b[33mDEPRECATION: Configuring installation scheme with distutils config files is deprecated and will no longer work in the near future. If you are using a Homebrew or Linuxbrew Python, please see discussion at https://github.com/Homebrew/homebrew-core/issues/76621\u001b[0m\u001b[33m\n",
      "\u001b[0mRequirement already satisfied: opencv-python in /usr/local/lib/python3.9/site-packages (4.9.0.80)\n",
      "Requirement already satisfied: numpy>=1.17.3 in /usr/local/lib/python3.9/site-packages (from opencv-python) (1.26.4)\n",
      "\u001b[33mDEPRECATION: Configuring installation scheme with distutils config files is deprecated and will no longer work in the near future. If you are using a Homebrew or Linuxbrew Python, please see discussion at https://github.com/Homebrew/homebrew-core/issues/76621\u001b[0m\u001b[33m\n",
      "\u001b[0m\n",
      "\u001b[1m[\u001b[0m\u001b[34;49mnotice\u001b[0m\u001b[1;39;49m]\u001b[0m\u001b[39;49m A new release of pip available: \u001b[0m\u001b[31;49m22.3.1\u001b[0m\u001b[39;49m -> \u001b[0m\u001b[32;49m24.0\u001b[0m\n",
      "\u001b[1m[\u001b[0m\u001b[34;49mnotice\u001b[0m\u001b[1;39;49m]\u001b[0m\u001b[39;49m To update, run: \u001b[0m\u001b[32;49mpython3.9 -m pip install --upgrade pip\u001b[0m\n"
     ]
    }
   ],
   "source": [
    "!pip install opencv-python"
   ]
  },
  {
   "cell_type": "code",
   "execution_count": 219,
   "metadata": {},
   "outputs": [],
   "source": [
    "from typing import List\n",
    "import cv2 as cv\n",
    "import numpy as np\n",
    "import sys"
   ]
  },
  {
   "cell_type": "code",
   "execution_count": 233,
   "metadata": {},
   "outputs": [],
   "source": [
    "class Face:\n",
    "  \"\"\"\n",
    "  Class for holding the face data in colour, greyscale and the width and height.\n",
    "  \"\"\"\n",
    "  def __init__(self, img: str):\n",
    "    self.gImg = cv.imread(img, cv.IMREAD_GRAYSCALE)\n",
    "    self.cImg = cv.imread(img, cv.IMREAD_COLOR)\n",
    "    self.height, self.width = self.gImg.shape\n",
    "\n",
    "class FaceFinder:\n",
    "  \"\"\"\n",
    "  Face finding class. Takes Faces (needles) and an image (haystack).\n",
    "  \"\"\"\n",
    "  def __init__(self, needles: List[Face], haystack: str):\n",
    "    \"\"\"Initialize the class\"\"\"\n",
    "    self.needles = needles\n",
    "    self.gray_haystack = cv.imread(haystack, cv.IMREAD_GRAYSCALE)\n",
    "    self.col_haystack = cv.imread(haystack, cv.IMREAD_COLOR)\n",
    "  def draw_rectangles(self, haystack: any, filter: List[np.ndarray]):\n",
    "    # buffer = haystack\n",
    "    \"\"\"Draw rectangles around the faces\"\"\"\n",
    "    for i, f in enumerate(filter):\n",
    "        # Get points where threshold is met\n",
    "        points = [(pt[0], pt[1]) for pt in zip(*f[::-1])]  # Swap coordinates and filter\n",
    "        for pt in points:\n",
    "            # Draw a green rectangle around each point\n",
    "            cv.rectangle(haystack, pt, (pt[0] + self.needles[i].height, pt[1] + self.needles[i].width), (0, 255, 0, 255), 2)\n",
    "    cv.imwrite(\"faces.png\", haystack)"
   ]
  },
  {
   "cell_type": "code",
   "execution_count": 221,
   "metadata": {},
   "outputs": [],
   "source": [
    "needles = [Face(\"glasses.png\"), Face(\"glasses2.png\"), Face(\"man.png\"), Face(\"woman.png\")]\n",
    "ff = FaceFinder(needles, \"crowd.png\")"
   ]
  },
  {
   "cell_type": "code",
   "execution_count": 222,
   "metadata": {},
   "outputs": [
    {
     "name": "stdout",
     "output_type": "stream",
     "text": [
      "['Face: (45, 68)', 'Face: (45, 68)', 'Face: (39, 56)', 'Face: (45, 46)']\n"
     ]
    }
   ],
   "source": [
    "# Width and Height of the faces in the needles\n",
    "print([f\"Face: {(face.width, face.height)}\" for face in ff.needles])\n",
    "# Destructure width and Height of the haystack\n",
    "(width, height) = ff.gray_haystack.shape\n",
    "# for colour image:\n",
    "# (width, height) = ff.col_haystack.shape[:-1]"
   ]
  },
  {
   "cell_type": "code",
   "execution_count": 223,
   "metadata": {},
   "outputs": [],
   "source": [
    "results = [cv.matchTemplate(ff.col_haystack, face.cImg, cv.TM_CCOEFF)\n",
    "          for face in ff.needles]"
   ]
  },
  {
   "cell_type": "code",
   "execution_count": 224,
   "metadata": {},
   "outputs": [],
   "source": [
    "low = [np.where(result >= 0.4) for result in results]\n",
    "mid = [np.where(result >= 0.6) for result in results]\n",
    "high = [np.where(result >= 0.8) for result in results]\n"
   ]
  },
  {
   "cell_type": "code",
   "execution_count": 234,
   "metadata": {},
   "outputs": [],
   "source": [
    "ff.draw_rectangles(ff.col_haystack, high)"
   ]
  },
  {
   "cell_type": "code",
   "execution_count": 226,
   "metadata": {},
   "outputs": [],
   "source": [
    "# ff.draw_rectangles(ff.col_haystack, mid)\n",
    "# cv.imwrite(\"faces_mid.jpg\", ff.col_haystack)"
   ]
  },
  {
   "cell_type": "code",
   "execution_count": 227,
   "metadata": {},
   "outputs": [],
   "source": [
    "# ff.draw_rectangles(ff.col_haystack, high)\n",
    "# cv.imwrite(\"faces_high.jpg\", ff.col_haystack)"
   ]
  },
  {
   "cell_type": "code",
   "execution_count": 231,
   "metadata": {},
   "outputs": [
    {
     "data": {
      "text/plain": [
       "True"
      ]
     },
     "execution_count": 231,
     "metadata": {},
     "output_type": "execute_result"
    }
   ],
   "source": [
    "img_rgb = cv.imread('crowd.png')\n",
    "template = cv.imread('man.png')\n",
    "w, h = template.shape[:-1]\n",
    "\n",
    "res = cv.matchTemplate(img_rgb, template, cv.TM_CCOEFF_NORMED)\n",
    "threshold = .8\n",
    "loc = np.where(res >= threshold)\n",
    "for pt in zip(*loc[::-1]):  # Switch columns and rows\n",
    "    cv.rectangle(img_rgb, pt, (pt[0] + h, pt[1] + w), (0, 0, 255), 2)\n",
    "\n",
    "cv.imwrite('result.png', img_rgb)"
   ]
  }
 ],
 "metadata": {
  "kernelspec": {
   "display_name": "Python 3",
   "language": "python",
   "name": "python3"
  },
  "language_info": {
   "codemirror_mode": {
    "name": "ipython",
    "version": 3
   },
   "file_extension": ".py",
   "mimetype": "text/x-python",
   "name": "python",
   "nbconvert_exporter": "python",
   "pygments_lexer": "ipython3",
   "version": "3.9.16"
  }
 },
 "nbformat": 4,
 "nbformat_minor": 2
}
