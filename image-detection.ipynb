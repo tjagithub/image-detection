{
 "cells": [
  {
   "cell_type": "code",
   "execution_count": null,
   "metadata": {},
   "outputs": [
    {
     "name": "stdout",
     "output_type": "stream",
     "text": [
     ]
    }
   ],
   "source": [
    "!pip install opencv-python"
   ]
  },
  {
   "cell_type": "code",
   "execution_count": null,
   "metadata": {},
   "outputs": [],
   "source": [
    "from typing import List\n",
    "import cv2 as cv\n",
    "import numpy as np\n",
    "import sys"
   ]
  },
  {
   "cell_type": "code",
   "execution_count": null,
   "metadata": {},
   "outputs": [],
   "source": [
    "class Face:\n",
    "  \"\"\"\n",
    "  Class for holding the face data in colour, greyscale and the width and height.\n",
    "  \"\"\"\n",
    "  def __init__(self, img: str):\n",
    "    self.gImg = cv.imread(img, cv.IMREAD_GRAYSCALE)\n",
    "    self.cImg = cv.imread(img, cv.IMREAD_COLOR)\n",
    "    self.height, self.width = self.gImg.shape\n",
    "\n",
    "class FaceFinder:\n",
    "  \"\"\"\n",
    "  Face finding class. Takes Faces (needles) and an image (haystack).\n",
    "  \"\"\"\n",
    "  def __init__(self, needles: List[Face], haystack: str):\n",
    "    \"\"\"Initialize the class\"\"\"\n",
    "    self.needles = needles\n",
    "    self.gray_haystack = cv.imread(haystack, cv.IMREAD_GRAYSCALE)\n",
    "    self.col_haystack = cv.imread(haystack, cv.IMREAD_COLOR)\n",
    "  def draw_rectangles(self, haystack: any, filter: List[np.ndarray]):\n",
    "    # buffer = haystack\n",
    "    \"\"\"Draw rectangles around the faces\"\"\"\n",
    "    for i, f in enumerate(filter):\n",
    "        # Get points where threshold is met\n",
    "        points = [(pt[0], pt[1]) for pt in zip(*f[::-1])]  # Swap coordinates and filter\n",
    "        for pt in points:\n",
    "            # Draw a green rectangle around each point\n",
    "            cv.rectangle(haystack, pt, (pt[0] + self.needles[i].height, pt[1] + self.needles[i].width), (0, 255, 0, 255), 2)\n",
    "    cv.imwrite(\"faces.png\", haystack)"
   ]
  },
  {
   "cell_type": "code",
   "execution_count": null,
   "metadata": {},
   "outputs": [],
   "source": [
    "needles = [Face(\"glasses.png\"), Face(\"glasses2.png\"), Face(\"man.png\"), Face(\"woman.png\")]\n",
    "ff = FaceFinder(needles, \"crowd.png\")"
   ]
  },
  {
   "cell_type": "code",
   "execution_count": null,
   "metadata": {},
   "outputs": [
    {
     "name": "stdout",
     "output_type": "stream",
     "text": [
     ]
    }
   ],
   "source": [
    "# Width and Height of the faces in the needles\n",
    "print([f\"Face: {(face.width, face.height)}\" for face in ff.needles])\n",
    "# Destructure width and Height of the haystack\n",
    "(width, height) = ff.gray_haystack.shape\n",
    "# for colour image:\n",
    "# (width, height) = ff.col_haystack.shape[:-1]"
   ]
  },
  {
   "cell_type": "code",
   "execution_count": null,
   "metadata": {},
   "outputs": [],
   "source": [
    "results = [cv.matchTemplate(ff.col_haystack, face.cImg, cv.TM_CCOEFF)\n",
    "          for face in ff.needles]"
   ]
  },
  {
   "cell_type": "code",
   "execution_count": null,
   "metadata": {},
   "outputs": [],
   "source": [
    "low = [np.where(result >= 0.4) for result in results]\n",
    "mid = [np.where(result >= 0.6) for result in results]\n",
    "high = [np.where(result >= 0.8) for result in results]\n"
   ]
  },
  {
   "cell_type": "code",
   "execution_count": null,
   "metadata": {},
   "outputs": [],
   "source": [
    "ff.draw_rectangles(ff.col_haystack, high)"
   ]
  }
 ],
 "metadata": {
  "kernelspec": {
   "display_name": "Python 3",
   "language": "python",
   "name": "python3"
  },
  "language_info": {
   "codemirror_mode": {
    "name": "ipython",
    "version": 3
   },
   "file_extension": ".py",
   "mimetype": "text/x-python",
   "name": "python",
   "nbconvert_exporter": "python",
   "pygments_lexer": "ipython3",
   "version": "3.9.16"
  }
 },
 "nbformat": 4,
 "nbformat_minor": 2
}
